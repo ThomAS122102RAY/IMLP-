{
  "cells": [
    {
      "cell_type": "markdown",
      "metadata": {
        "id": "7TRmA5F7NAl5"
      },
      "source": [
        "# Python programming\n",
        "## Crash Course on Python Coding Practice\n",
        "\n",
        "No matter the level of mastery you hope to get to in Python,<br>\n",
        "you'll need these fundamentals in place before you jump into any project.<br><br>\n",
        "\n",
        "You need to know how to:\n",
        "\n",
        "- declare variables\n",
        "- collect user input\n",
        "- store information\n",
        "- repeat an action through loops\n",
        "- write functions to repeat blocks of code\n"
      ]
    },
    {
      "cell_type": "markdown",
      "metadata": {
        "id": "hXcYmhkaNAl7"
      },
      "source": [
        "### 01 - 奇偶數辨別（Odd or even）\n",
        "#### 當使用者輸入一個的數字，它能夠辨別奇偶，並輸出檢驗結果給使用者。\n",
        "\n",
        "> 題目：輸入一數字判斷奇數或偶數<br>\n",
        "輸入(Input): 一個數字 <br>\n",
        "輸出(Output):奇數或偶數\n",
        "\n",
        "* 進階: 可以限制輸入一個介於一定範圍（例如 1 到 1000）的數字"
      ]
    },
    {
      "cell_type": "code",
      "execution_count": 1,
      "metadata": {
        "colab": {
          "base_uri": "https://localhost:8080/"
        },
        "id": "5fnPVcsRNAl8",
        "outputId": "530f4602-fc11-4406-ac12-f468cc5cbd2f"
      },
      "outputs": [
        {
          "output_type": "stream",
          "name": "stdout",
          "text": [
            "請輸入一個數字：12\n",
            "12 是偶數\n",
            "\n",
            "程式已結束。\n"
          ]
        }
      ],
      "source": [
        "def check_odd_even(number):\n",
        "    if number % 2 == 0:\n",
        "        return \"偶數\"\n",
        "    else:\n",
        "        return \"奇數\"\n",
        "\n",
        "def main():\n",
        "    while True:\n",
        "        try:\n",
        "            input_number = int(input(\"請輸入一個數字：\"))\n",
        "            if 1 <= input_number <= 1000:\n",
        "                result = check_odd_even(input_number)\n",
        "                print(f\"{input_number} 是{result}\")\n",
        "            else:\n",
        "                print(\"請輸入介於1到1000之間的數字。\")\n",
        "        except ValueError:\n",
        "            print(\"請輸入有效的數字。\")\n",
        "        except KeyboardInterrupt:\n",
        "            print(\"\\n程式已結束。\")\n",
        "            break\n",
        "\n",
        "if __name__ == \"__main__\":\n",
        "    main()"
      ]
    },
    {
      "cell_type": "markdown",
      "metadata": {
        "id": "aFjdTjBVNAl8"
      },
      "source": [
        "### 02 - 填字遊戲（Mad libs game）\n",
        "#### 使用者輸入任何字，它可以是名詞、形容詞、動詞、代名詞等。程式得到文字後，可自行排列，組成成一個模板故事。\n",
        "\n",
        "> 題目：輸入一數字判斷奇數或偶數<br>\n",
        "輸入(Input): 一連串依據說明輸入對應文字 <br>\n",
        "輸出(Output): 模板故事\n",
        "\n",
        "* 進階: 可以讓程式重複執行"
      ]
    },
    {
      "cell_type": "code",
      "execution_count": 3,
      "metadata": {
        "colab": {
          "base_uri": "https://localhost:8080/"
        },
        "id": "TGPSfacGNAl9",
        "outputId": "295d1d33-7a4a-46d0-ce3a-d97a7ad255cb"
      },
      "outputs": [
        {
          "output_type": "stream",
          "name": "stdout",
          "text": [
            "請輸入一個名詞：w\n",
            "請輸入一個形容詞：e\n",
            "請輸入一個動詞：q\n",
            "請輸入一個代名詞：u\n",
            "\n",
            "以下是你的故事：\n",
            "從前有一隻叫做w的怪獸，它有一個e的外表。每天它喜歡q，非常開心。u是個非常特別的生物。\n",
            "\n",
            "程式已結束。\n"
          ]
        }
      ],
      "source": [
        "def mad_libs_game():\n",
        "    noun = input(\"請輸入一個名詞：\")\n",
        "    adjective = input(\"請輸入一個形容詞：\")\n",
        "    verb = input(\"請輸入一個動詞：\")\n",
        "    pronoun = input(\"請輸入一個代名詞：\")\n",
        "\n",
        "    story = f\"從前有一隻叫做{noun}的怪獸，它有一個{adjective}的外表。每天它喜歡{verb}，非常開心。{pronoun}是個非常特別的生物。\"\n",
        "\n",
        "    return story\n",
        "\n",
        "def main():\n",
        "    while True:\n",
        "        try:\n",
        "            story = mad_libs_game()\n",
        "            print(\"\\n以下是你的故事：\")\n",
        "            print(story)\n",
        "            play_again = input(\"是否要再玩一次？(yes/no): \")\n",
        "            if play_again.lower() != \"yes\":\n",
        "                print(\"程式已結束。\")\n",
        "                break\n",
        "        except KeyboardInterrupt:\n",
        "            print(\"\\n程式已結束。\")\n",
        "            break\n",
        "\n",
        "if __name__ == \"__main__\":\n",
        "    main()"
      ]
    },
    {
      "cell_type": "markdown",
      "metadata": {
        "id": "hxfdrwS2NAl-"
      },
      "source": [
        "### 03 -  猜數字（Guess the number）\n",
        "#### 請使用者猜一個介於範圍（例如 1 到 100）之間的數字，\n",
        "#### 若使用者猜錯，就詢問他們想繼續玩還是退出；若使用者猜對，就顯示祝賀訊息，\n",
        "#### 並統計使用者的嘗試次數。如果使用者輸入的數字超出設定範圍，就顯示錯誤提示。\n",
        "\n",
        "![](data\\guess.png)\n"
      ]
    },
    {
      "cell_type": "code",
      "execution_count": null,
      "metadata": {
        "id": "QIc_hqA6NAl-"
      },
      "outputs": [],
      "source": [
        "import random\n",
        "\n",
        "def guess_the_number():\n",
        "    lower_limit = 1\n",
        "    upper_limit = 100\n",
        "    target_number = random.randint(lower_limit, upper_limit)\n",
        "    attempts = 0\n",
        "\n",
        "    print(f\"猜一個介於{lower_limit}和{upper_limit}之間的數字。\")\n",
        "\n",
        "    while True:\n",
        "        try:\n",
        "            user_guess = int(input(\"請輸入你的猜測：\"))\n",
        "            attempts += 1\n",
        "\n",
        "            if user_guess < lower_limit or user_guess > upper_limit:\n",
        "                print(f\"請輸入{lower_limit}和{upper_limit}之間的數字。\")\n",
        "            elif user_guess < target_number:\n",
        "                print(\"太小了，再試一次！\")\n",
        "            elif user_guess > target_number:\n",
        "                print(\"太大了，再試一次！\")\n",
        "            else:\n",
        "                print(f\"恭喜你，猜對了！你總共猜了 {attempts} 次。\")\n",
        "                break\n",
        "\n",
        "            play_again = input(\"是否要繼續玩？(yes/no): \")\n",
        "            if play_again.lower() != \"yes\":\n",
        "                print(\"程式已結束。\")\n",
        "                break\n",
        "        except ValueError:\n",
        "            print(\"請輸入有效的數字。\")\n",
        "        except KeyboardInterrupt:\n",
        "            print(\"\\n程式已結束。\")\n",
        "            break\n",
        "\n",
        "if __name__ == \"__main__\":\n",
        "    guess_the_number()\n"
      ]
    },
    {
      "cell_type": "markdown",
      "metadata": {
        "id": "ZhkjoTlaNAl-"
      },
      "source": [
        "### 04 - 計算字數（Word count）\n",
        "#### 使用者輸入一段文字或讀取一檔案，程式統計字數。\n",
        "\n",
        "> 輸入(Input):我要成為寫程式的專家 <br>\n",
        "輸出(Output):你用了 10 個文字述說內心的想法\n",
        "\n",
        "#### 在特定的文章字串中搜尋輸入的特定字，請使用者輸入欲搜尋的文字，印出總共有幾個。<br>\n",
        ">輸入(Input):天<br>\n",
        "輸出(Output): 9\n",
        "\n",
        "* 進階:計算文章中去除標點符號後的字數，找出文章中出現最多的字與次數"
      ]
    },
    {
      "cell_type": "code",
      "execution_count": null,
      "metadata": {
        "id": "VWZ4Pq-QNAl-",
        "outputId": "e46d63ac-1a4d-4151-ae8c-dbe085244a02"
      },
      "outputs": [
        {
          "name": "stdout",
          "output_type": "stream",
          "text": [
            "討厭\n",
            "你用了 2 個文字述說內心的想法\n",
            "天\n",
            "9\n"
          ]
        }
      ],
      "source": [
        "import string\n",
        "from collections import Counter\n",
        "\n",
        "def get_word_count(text):\n",
        "    words = text.split()\n",
        "    return len(words)\n",
        "\n",
        "def search_word_count(text, target_word):\n",
        "    words = text.split()\n",
        "    target_count = words.count(target_word)\n",
        "    return target_count\n",
        "\n",
        "def remove_punctuation(text):\n",
        "    translator = str.maketrans(\"\", \"\", string.punctuation)\n",
        "    clean_text = text.translate(translator)\n",
        "    return clean_text\n",
        "\n",
        "def most_common_words(text, num_words):\n",
        "    words = text.split()\n",
        "    words = [word.lower() for word in words]\n",
        "    word_counter = Counter(words)\n",
        "    common_words = word_counter.most_common(num_words)\n",
        "    return common_words\n",
        "\n",
        "def main():\n",
        "    while True:\n",
        "        try:\n",
        "            choice = int(input(\"選擇操作：\\n1. 輸入文字計算字數\\n2. 從檔案讀取文字計算字數\\n3. 尋找特定字出現次數\\n4. 計算去除標點符號後的字數\\n5. 尋找最常見的字\\n6. 結束\\n\"))\n",
        "\n",
        "            if choice == 1:\n",
        "                input_text = input(\"請輸入文字：\")\n",
        "                word_count = get_word_count(input_text)\n",
        "                print(f\"文字的字數：{word_count}\")\n",
        "            elif choice == 2:\n",
        "                filename = input(\"請輸入檔案名稱：\")\n",
        "                with open(filename, 'r') as file:\n",
        "                    file_text = file.read()\n",
        "                    word_count = get_word_count(file_text)\n",
        "                    print(f\"檔案的字數：{word_count}\")\n",
        "            elif choice == 3:\n",
        "                input_text = input(\"請輸入文字：\")\n",
        "                target_word = input(\"請輸入要尋找的字：\")\n",
        "                target_count = search_word_count(input_text, target_word)\n",
        "                print(f\"{target_word} 出現的次數：{target_count}\")\n",
        "            elif choice == 4:\n",
        "                input_text = input(\"請輸入文字：\")\n",
        "                clean_text = remove_punctuation(input_text)\n",
        "                clean_word_count = get_word_count(clean_text)\n",
        "                print(f\"去除標點符號後的字數：{clean_word_count}\")\n",
        "            elif choice == 5:\n",
        "                input_text = input(\"請輸入文字：\")\n",
        "                num_common_words = int(input(\"要顯示幾個最常見的字？\"))\n",
        "                common_words = most_common_words(input_text, num_common_words)\n",
        "                print(\"最常見的字：\")\n",
        "                for word, count in common_words:\n",
        "                    print(f\"{word}: {count} 次\")\n",
        "            elif choice == 6:\n",
        "                print(\"程式已結束。\")\n",
        "                break\n",
        "            else:\n",
        "                print(\"請輸入有效的選擇。\")\n",
        "        except FileNotFoundError:\n",
        "            print(\"找不到指定的檔案。\")\n",
        "        except ValueError:\n",
        "            print(\"請輸入有效的數字。\")\n",
        "        except KeyboardInterrupt:\n",
        "            print(\"\\n程式已結束。\")\n",
        "            break\n",
        "\n",
        "if __name__ == \"__main__\":\n",
        "    main()\n"
      ]
    },
    {
      "cell_type": "markdown",
      "metadata": {
        "id": "wTlrcUFeNAl_"
      },
      "source": [
        "### 05 - Email 域名判斷器（Email slicer）\n",
        "#### 請用戶輸入 Email 地址，然後判斷它是自定義域名還是熱門域名。\n",
        "\n",
        "> 題目：<br>\n",
        "輸入(Input):shelly200318@hotmail.com.tw  <br>\n",
        "輸出(Output):Your username is 'shelly200318' and your domain name is 'hotmail.com.tw' <br>\n",
        "\n",
        "\n",
        "* 進階：把常用的信箱存成字典，加入判斷是否為\n",
        ">輸入(Input):mary.jane@gmail.com  <br>\n",
        "輸出(Output):這是註冊在 Google 之下的 Email 地址 <br>\n",
        "輸入(Input):matt.pan@myfantasy.com  <br>\n",
        "輸出(Output):這是在 myfantasy 之下自定義域\n",
        "\n"
      ]
    },
    {
      "cell_type": "code",
      "execution_count": null,
      "metadata": {
        "id": "Kxdm5tZ7NAmA",
        "outputId": "973d31fa-5a90-4179-ebb4-a15771d23060"
      },
      "outputs": [
        {
          "name": "stdout",
          "output_type": "stream",
          "text": [
            "What is your email address?: aaa@ntut.org.tw\n",
            "Your username is 'aaa' and your domain name is 'ntut.org.tw'\n",
            "這是在 ntut 之下自定義域\n"
          ]
        }
      ],
      "source": [
        "def is_custom_domain(email, popular_domains):\n",
        "    domain = email.split('@')[1]\n",
        "    if domain in popular_domains:\n",
        "        return False\n",
        "    return True\n",
        "\n",
        "def main():\n",
        "    popular_domains = {\n",
        "        'gmail.com',\n",
        "        'yahoo.com',\n",
        "        'hotmail.com',\n",
        "        'outlook.com',\n",
        "        'aol.com'\n",
        "        # 添加更多常見的域名\n",
        "    }\n",
        "\n",
        "    while True:\n",
        "        try:\n",
        "            email = input(\"請輸入Email地址：\")\n",
        "            if '@' in email:\n",
        "                is_custom = is_custom_domain(email, popular_domains)\n",
        "                if is_custom:\n",
        "                    print(\"這是自定義域名。\")\n",
        "                else:\n",
        "                    print(\"這是熱門域名。\")\n",
        "            else:\n",
        "                print(\"請輸入有效的Email地址。\")\n",
        "\n",
        "            play_again = input(\"是否要繼續判斷？(yes/no): \")\n",
        "            if play_again.lower() != \"yes\":\n",
        "                print(\"程式已結束。\")\n",
        "                break\n",
        "        except KeyboardInterrupt:\n",
        "            print(\"\\n程式已結束。\")\n",
        "            break\n",
        "\n",
        "if __name__ == \"__main__\":\n",
        "    main()\n"
      ]
    },
    {
      "cell_type": "markdown",
      "metadata": {
        "id": "eGn0tBKFNAmA"
      },
      "source": [
        "### 06 - 及格名單（Pass list）\n",
        "#### 請使用集合功能來完成各科級名單的判斷\n",
        "```\n",
        "米花市帝丹小學一年级B班正舉辦期中考試\n",
        "數學及格的有：柯南、灰原、步美、美環、光彦\n",
        "英文及格的有：柯南、灰原、丸尾、野口、步美\n",
        "以上已列出全班所有人\n",
        "```\n",
        "\n",
        ">請分別列出<br>\n",
        "數學及格但英文不及格的同學名單<br>\n",
        "數學不及格但英文及格的同學名單<br>\n",
        "兩者皆及格名單<br>\n",
        "* Hint:差集(減法)、交集\n"
      ]
    },
    {
      "cell_type": "code",
      "execution_count": 5,
      "metadata": {
        "colab": {
          "base_uri": "https://localhost:8080/"
        },
        "id": "DQ87WIndNAmA",
        "outputId": "f4609ffe-fb93-40ea-f4b2-57552cf02d54"
      },
      "outputs": [
        {
          "output_type": "stream",
          "name": "stdout",
          "text": [
            "數學及格但英文不及格的同學名單：\n",
            "光彦\n",
            "美環\n",
            "\n",
            "數學不及格但英文及格的同學名單：\n",
            "野口\n",
            "丸尾\n",
            "\n",
            "兩者皆及格名單：\n",
            "灰原\n",
            "步美\n",
            "柯南\n"
          ]
        }
      ],
      "source": [
        "math_pass = {'柯南', '灰原', '步美', '美環', '光彦'}\n",
        "english_pass = {'柯南', '灰原', '丸尾', '野口', '步美'}\n",
        "\n",
        "math_only_pass = math_pass - english_pass\n",
        "english_only_pass = english_pass - math_pass\n",
        "both_pass = math_pass & english_pass\n",
        "\n",
        "print(\"數學及格但英文不及格的同學名單：\")\n",
        "for student in math_only_pass:\n",
        "    print(student)\n",
        "\n",
        "print(\"\\n數學不及格但英文及格的同學名單：\")\n",
        "for student in english_only_pass:\n",
        "    print(student)\n",
        "\n",
        "print(\"\\n兩者皆及格名單：\")\n",
        "for student in both_pass:\n",
        "    print(student)\n"
      ]
    },
    {
      "cell_type": "markdown",
      "metadata": {
        "id": "qM-sAYbcNAmB"
      },
      "source": [
        "### 07 - 查詢路徑下所有檔案\n",
        "#### 請使用者輸入路徑，自動抓取路徑下所有檔案名稱\n",
        "\n",
        ">輸入(Input):data\\testfile 或 D:\\code\\ML_202105\\data\\testfile  <br>\n",
        "輸出(Output):\n",
        "```\n",
        "I'm a directory: file1\n",
        "I'm a directory: file2\n",
        "I'm a File: hw_07945001.txt\n",
        "I'm a File: hw_079450010.doc\n",
        "I'm a File: hw_07945002.txt\n",
        "I'm a File: hw_07945003.txt\n",
        "I'm a File: hw_07945004.txt\n",
        "I'm a File: hw_07945005.txt\n",
        "I'm a File: hw_07945007.txt\n",
        "I'm a File: hw_07945008.txt\n",
        "I'm a File: hw_07945009.txt\n",
        "```\n",
        "\n",
        "* 進階: 把file的學號抓出來，另存成一個新的csv檔"
      ]
    },
    {
      "cell_type": "code",
      "execution_count": null,
      "metadata": {
        "id": "4mWJhAAnNAmB",
        "outputId": "28de6afd-b548-4b0f-a8f6-f7957db530e6"
      },
      "outputs": [
        {
          "name": "stdout",
          "output_type": "stream",
          "text": [
            "D:\\code\\ML_202105\\testfile\n",
            "I'm a directory: file1\n",
            "I'm a directory: file2\n",
            "I'm a File: hw_07945001.txt\n",
            "I'm a File: hw_079450010.doc\n",
            "I'm a File: hw_07945002.txt\n",
            "I'm a File: hw_07945003.txt\n",
            "I'm a File: hw_07945004.txt\n",
            "I'm a File: hw_07945005.txt\n",
            "I'm a File: hw_07945007.txt\n",
            "I'm a File: hw_07945008.txt\n",
            "I'm a File: hw_07945009.txt\n"
          ]
        }
      ],
      "source": [
        "import os\n",
        "import re\n",
        "import csv\n",
        "\n",
        "def extract_student_id(filename):\n",
        "    # 使用正則表達式搜尋檔案名稱中的學號\n",
        "    match = re.search(r'hw_(\\d+)\\.', filename)\n",
        "    if match:\n",
        "        return match.group(1)\n",
        "    else:\n",
        "        return None\n",
        "\n",
        "def main():\n",
        "    yourPath = input(\"請輸入要查詢的路徑：\")\n",
        "    allFileList = os.listdir(yourPath)\n",
        "\n",
        "    student_ids = []\n",
        "\n",
        "    for file in allFileList:\n",
        "        if os.path.isdir(os.path.join(yourPath, file)):\n",
        "            print(\"I'm a directory: \" + file)\n",
        "        elif os.path.isfile(os.path.join(yourPath, file)):\n",
        "            print(\"I'm a File: \" + file)\n",
        "            student_id = extract_student_id(file)\n",
        "            if student_id:\n",
        "                student_ids.append(student_id)\n",
        "\n",
        "    if student_ids:\n",
        "        csv_filename = \"student_ids.csv\"\n",
        "        with open(csv_filename, 'w', newline='') as csvfile:\n",
        "            csv_writer = csv.writer(csvfile)\n",
        "            csv_writer.writerow([\"Student ID\"])\n",
        "            csv_writer.writerows([[student_id] for student_id in student_ids])\n",
        "        print(f\"\\n已將學號存成 {csv_filename} 檔案。\")\n",
        "    else:\n",
        "        print(\"\\n沒有找到符合的學號。\")\n",
        "\n",
        "if __name__ == \"__main__\":\n",
        "    main()\n",
        "\n"
      ]
    },
    {
      "cell_type": "markdown",
      "metadata": {
        "id": "V1m85K-mNAmB"
      },
      "source": [
        "### 08 - 資料夾管理(shutil)\n",
        "#### 說明 ####\n",
        "\n",
        "```\n",
        "在目前所在的目錄下建立一files資料夾\n",
        "\n",
        "令使用者輸入一數字N，並在files資料夾中建立f1, f2… fN等N個資料夾後列出files的資料夾內容\n",
        "\n",
        "將files資料夾裡的f1資料夾重新命名成folder1後再列出files的資料夾內容\n",
        "\n",
        "移除files資料夾中的folder1後再列出files的資料夾內容\n",
        "\n",
        "最後移除files資料夾\n",
        "※須先退出files資料夾(os.chdir(../)) ![image.png](attachment:image.png)\n",
        "```\n"
      ]
    },
    {
      "cell_type": "code",
      "execution_count": null,
      "metadata": {
        "id": "NHJuM9t2NAmB",
        "outputId": "d8ba6e0f-51e3-4dfd-dffd-be0799d1ddcf"
      },
      "outputs": [
        {
          "name": "stdout",
          "output_type": "stream",
          "text": [
            "2\n",
            "['f1', 'f2']\n",
            "Enter\n",
            "['f2', 'folder1']\n",
            "Enter\n",
            "['f2']\n",
            "Enter\n"
          ]
        }
      ],
      "source": [
        "import os\n",
        "import shutil\n",
        "\n",
        "def create_folders(num_folders):\n",
        "    for i in range(1, num_folders + 1):\n",
        "        folder_name = f'f{i}'\n",
        "        os.mkdir(folder_name)\n",
        "        print(f'已建立資料夾 {folder_name}')\n",
        "\n",
        "def main():\n",
        "    try:\n",
        "        os.mkdir('files')\n",
        "        print(\"已建立資料夾 files\")\n",
        "\n",
        "        os.chdir('files')\n",
        "\n",
        "        num_folders = int(input(\"請輸入數字N：\"))\n",
        "        create_folders(num_folders)\n",
        "\n",
        "        print(\"\\nfiles 資料夾內容：\")\n",
        "        print(os.listdir())\n",
        "\n",
        "        os.rename('f1', 'folder1')\n",
        "        print(\"\\n已將 f1 資料夾重新命名為 folder1\")\n",
        "\n",
        "        print(\"\\nfiles 資料夾內容：\")\n",
        "        print(os.listdir())\n",
        "\n",
        "        shutil.rmtree('folder1')\n",
        "        print(\"\\n已移除 folder1 資料夾\")\n",
        "\n",
        "        print(\"\\nfiles 資料夾內容：\")\n",
        "        print(os.listdir())\n",
        "\n",
        "        os.chdir('..')\n",
        "        shutil.rmtree('files')\n",
        "        print(\"\\n已移除 files 資料夾\")\n",
        "    except Exception as e:\n",
        "        print(\"發生錯誤:\", e)\n",
        "\n",
        "if __name__ == \"__main__\":\n",
        "    main()\n"
      ]
    },
    {
      "cell_type": "markdown",
      "metadata": {
        "id": "Wtn-x27ENAmC"
      },
      "source": [
        "### 09 - 回文判斷（Is a palindrome）\n",
        "#### 請使用者輸入單字，判斷它是否為回文，也就是該單字前後對稱，例如 madam，從前讀到後或是從後讀到前的順序都是 madam。\n",
        "\n",
        "> 題目：<br>\n",
        "輸入(Input): 雨 滋 春 樹 碧 連 天  天 連 碧 樹 春 滋 雨 <br>\n",
        "輸出(Output):The text you have entered is a palindrome!<br>\n",
        "輸入(Input): 資工訓練班 <br>\n",
        "輸出(Output):The text you have entered is not a palindrome.\n"
      ]
    },
    {
      "cell_type": "code",
      "execution_count": null,
      "metadata": {
        "id": "S6rPTzQxNAmC",
        "outputId": "c4a8b00a-4d36-462f-9ad0-9c74dbe21402"
      },
      "outputs": [
        {
          "name": "stdout",
          "output_type": "stream",
          "text": [
            "\n",
            "Palindrome checker\n",
            "\n",
            "Please enter a word, phrase, or a sentence \n",
            "to check if it is a palindrome: 雨 滋 春 樹 碧 連 天  天 連 碧 樹 春 滋 雨\n",
            "The text you have entered is a palindrome!\n"
          ]
        }
      ],
      "source": [
        "def is_palindrome(word):\n",
        "    reversed_word = word[::-1]\n",
        "    return word == reversed_word\n",
        "\n",
        "def main():\n",
        "    user_input = input(\"請輸入一個單字：\")\n",
        "    if is_palindrome(user_input):\n",
        "        print(\"The text you have entered is a palindrome!\")\n",
        "    else:\n",
        "        print(\"The text you have entered is not a palindrome.\")\n",
        "\n",
        "if __name__ == \"__main__\":\n",
        "    main()"
      ]
    },
    {
      "cell_type": "markdown",
      "metadata": {
        "id": "2m5gDqeQNAmC"
      },
      "source": [
        "### 10 - 總成績計算\n",
        "#### 說明 ####\n",
        "\n",
        "請讀取 `data/english_list.csv`與`data/math_list.csv`檔案(`utf-8`)後，將每位同學的英文與數學成績加總起來，並將檔案寫入至 `./Score.csv`中，編碼成`utf-8`<br>\n",
        "最後列印出每位學生姓名與加總後的分數<br>\n",
        "<a href=\"data\\english_list.csv\">英文成績下載</a><br>\n",
        "<a href=\"data\\math_list.csv\">數學成績下載</a><br>\n",
        "\n",
        "#### Input Format ####\n",
        "\n",
        "<br>\n",
        "csv資料(英文成績)<br>\n",
        "csv資料(數學成績)<br>\n",
        "<br>\n",
        "\n",
        "#### Output Format ####\n",
        "\n",
        "<br>\n",
        "\n",
        "![](data\\05.JPG)<br>\n",
        "<br>\n",
        "<br>\n",
        "(圖片參考用 以文字敘述為準)<br>\n",
        "\n",
        "\n",
        "\n",
        "\n",
        "#### Sample Input 1####\n",
        "\n",
        "\n",
        "\n",
        "```\n",
        "無標準輸入，只有檔案輸入\n",
        "```\n",
        "\n",
        "\n",
        "\n",
        "#### Sample Output 1####\n",
        "\n",
        "\n",
        "```\n",
        "廖冠霖 142\n",
        "王力中 124\n",
        "張平舜 108\n",
        ".\n",
        ".\n",
        ".\n",
        ".\n",
        ".\n",
        "陳姿茜 77\n",
        "涂珮瑜 134\n",
        "夏明哲 111\n",
        "\n",
        "```\n",
        "\n",
        "\n",
        "#### Hint ####\n",
        "\n",
        "\n",
        "\n",
        "```\n",
        "None\n",
        "```\n"
      ]
    },
    {
      "cell_type": "code",
      "execution_count": null,
      "metadata": {
        "id": "-C_b9oGcNAmC",
        "outputId": "509ae279-9172-469c-b097-8c2ee92adc36"
      },
      "outputs": [
        {
          "name": "stdout",
          "output_type": "stream",
          "text": [
            "廖冠霖 142\n",
            "王力中 124\n",
            "張平舜 108\n",
            "洪婷婷 128\n",
            "林士雨 86\n",
            "陳宗翰 28\n",
            "洪偉珊 134\n",
            "顏又芹 32\n",
            "王亦夏 55\n",
            "姚成華 77\n",
            "潘詠月 144\n",
            "倪浩迪 163\n",
            "郭心怡 109\n",
            "黃政聖 99\n",
            "顏曉雲 135\n",
            "彭曉雯 77\n",
            "葉健仁 117\n",
            "賴軒年 167\n",
            "韓致遠 52\n",
            "陳常芝 80\n",
            "黃佩樺 108\n",
            "林詩虹 178\n",
            "黃心卿 96\n",
            "郭奕全 101\n",
            "游子揚 127\n",
            "杜茜行 107\n",
            "李美一 64\n",
            "陳姿茜 77\n",
            "涂珮瑜 134\n",
            "夏明哲 111\n"
          ]
        },
        {
          "data": {
            "text/plain": [
              "'\\nline=\\'\\'\\nfout = open(\"Score.csv\",\"r\")\\nfor i in (len(name)):\\n    print()\\n'"
            ]
          },
          "execution_count": 36,
          "metadata": {},
          "output_type": "execute_result"
        }
      ],
      "source": [
        "import csv\n",
        "\n",
        "def calculate_total_scores(english_data, math_data):\n",
        "    total_scores = {}\n",
        "\n",
        "    for row in english_data:\n",
        "        name = row[0]\n",
        "        english_score = int(row[1])\n",
        "        total_scores[name] = {'english': english_score, 'math': 0}\n",
        "\n",
        "    for row in math_data:\n",
        "        name = row[0]\n",
        "        math_score = int(row[1])\n",
        "        if name in total_scores:\n",
        "            total_scores[name]['math'] = math_score\n",
        "\n",
        "    return total_scores\n",
        "\n",
        "def write_to_csv(data, output_filename):\n",
        "    with open(output_filename, 'w', newline='', encoding='utf-8') as csvfile:\n",
        "        csv_writer = csv.writer(csvfile)\n",
        "        csv_writer.writerow(['Name', 'Total Score'])\n",
        "        for name, scores in data.items():\n",
        "            total_score = scores['english'] + scores['math']\n",
        "            csv_writer.writerow([name, total_score])\n",
        "\n",
        "def main():\n",
        "    english_filename = 'data/english_list.csv'\n",
        "    math_filename = 'data/math_list.csv'\n",
        "    output_filename = 'Score.csv'\n",
        "\n",
        "    english_data = []\n",
        "    math_data = []\n",
        "\n",
        "    # 讀取英文成績CSV檔案\n",
        "    with open(english_filename, 'r', encoding='utf-8') as english_file:\n",
        "        english_reader = csv.reader(english_file)\n",
        "        for row in english_reader:\n",
        "            english_data.append(row)\n",
        "\n",
        "    # 讀取數學成績CSV檔案\n",
        "    with open(math_filename, 'r', encoding='utf-8') as math_file:\n",
        "        math_reader = csv.reader(math_file)\n",
        "        for row in math_reader:\n",
        "            math_data.append(row)\n",
        "\n",
        "    total_scores = calculate_total_scores(english_data[1:], math_data[1:])\n",
        "    write_to_csv(total_scores, output_filename)\n",
        "\n",
        "    print(\"學生姓名及加總分數：\")\n",
        "    for name, scores in total_scores.items():\n",
        "        total_score = scores['english'] + scores['math']\n",
        "        print(f\"{name}: {total_score}\")\n",
        "\n",
        "if __name__ == \"__main__\":\n",
        "    main()"
      ]
    },
    {
      "cell_type": "code",
      "execution_count": null,
      "metadata": {
        "id": "O1ZTMmAINAmD"
      },
      "outputs": [],
      "source": []
    }
  ],
  "metadata": {
    "kernelspec": {
      "display_name": "Python 3",
      "language": "python",
      "name": "python3"
    },
    "language_info": {
      "codemirror_mode": {
        "name": "ipython",
        "version": 3
      },
      "file_extension": ".py",
      "mimetype": "text/x-python",
      "name": "python",
      "nbconvert_exporter": "python",
      "pygments_lexer": "ipython3",
      "version": "3.8.8"
    },
    "colab": {
      "provenance": []
    }
  },
  "nbformat": 4,
  "nbformat_minor": 0
}