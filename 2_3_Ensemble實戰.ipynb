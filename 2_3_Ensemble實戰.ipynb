{
  "cells": [
    {
      "cell_type": "markdown",
      "id": "3129ab3d",
      "metadata": {
        "id": "3129ab3d"
      },
      "source": [
        "# Ensemble/Voting Classification in Python with Scikit-Learn\n",
        "ref：https://www.kaggle.com/c/titanic/submit"
      ]
    },
    {
      "cell_type": "code",
      "execution_count": 1,
      "id": "c6b020b8",
      "metadata": {
        "id": "c6b020b8"
      },
      "outputs": [],
      "source": [
        "import pandas as pd\n",
        "import numpy as np\n",
        "import warnings\n",
        "\n",
        "from sklearn.preprocessing import LabelEncoder, StandardScaler\n",
        "from sklearn.metrics import accuracy_score, f1_score, log_loss\n",
        "from sklearn.model_selection import train_test_split, KFold, cross_val_score\n",
        "\n",
        "from sklearn.svm import SVC\n",
        "from sklearn.linear_model import LogisticRegression\n",
        "from sklearn.tree import DecisionTreeClassifier\n",
        "from sklearn.ensemble import VotingClassifier\n",
        "from sklearn.ensemble import BaggingClassifier\n",
        "from sklearn.ensemble import AdaBoostClassifier, RandomForestClassifier, ExtraTreesClassifier"
      ]
    },
    {
      "cell_type": "code",
      "execution_count": 4,
      "id": "7163b994",
      "metadata": {
        "scrolled": true,
        "colab": {
          "base_uri": "https://localhost:8080/"
        },
        "id": "7163b994",
        "outputId": "a765785e-af1e-4e39-db04-451ba7fe490e"
      },
      "outputs": [
        {
          "output_type": "stream",
          "name": "stdout",
          "text": [
            "Training Data:\n",
            "Survived      0\n",
            "Pclass        0\n",
            "Name          0\n",
            "Sex           0\n",
            "Age         177\n",
            "SibSp         0\n",
            "Parch         0\n",
            "Ticket        0\n",
            "Fare          0\n",
            "Cabin       687\n",
            "Embarked      2\n",
            "dtype: int64\n",
            "Testing Data:\n",
            "Pclass        0\n",
            "Name          0\n",
            "Sex           0\n",
            "Age          86\n",
            "SibSp         0\n",
            "Parch         0\n",
            "Ticket        0\n",
            "Fare          1\n",
            "Cabin       327\n",
            "Embarked      0\n",
            "dtype: int64\n"
          ]
        }
      ],
      "source": [
        "training_data = pd.read_csv('/content/train.csv',index_col=0)\n",
        "testing_data = pd.read_csv('/content/test.csv',index_col=0)\n",
        "def get_nulls(training, testing):\n",
        "    print(\"Training Data:\")\n",
        "    print(pd.isnull(training).sum())\n",
        "    print(\"Testing Data:\")\n",
        "    print(pd.isnull(testing).sum())\n",
        "\n",
        "get_nulls(training_data, testing_data)"
      ]
    },
    {
      "cell_type": "code",
      "execution_count": 5,
      "id": "ffd6109f",
      "metadata": {
        "colab": {
          "base_uri": "https://localhost:8080/"
        },
        "id": "ffd6109f",
        "outputId": "6360b451-88fe-4473-d8e3-8822538a3e31"
      },
      "outputs": [
        {
          "output_type": "stream",
          "name": "stdout",
          "text": [
            "Training Data:\n",
            "Survived    0\n",
            "Pclass      0\n",
            "Sex         0\n",
            "Age         0\n",
            "SibSp       0\n",
            "Parch       0\n",
            "Fare        0\n",
            "Embarked    2\n",
            "dtype: int64\n",
            "Testing Data:\n",
            "Pclass        0\n",
            "Name          0\n",
            "Sex           0\n",
            "Age          86\n",
            "SibSp         0\n",
            "Parch         0\n",
            "Ticket        0\n",
            "Fare          1\n",
            "Cabin       327\n",
            "Embarked      0\n",
            "dtype: int64\n"
          ]
        }
      ],
      "source": [
        "# Drop the cabin column, as there are too many missing values\n",
        "# Drop the ticket numbers too, as there are too many categories\n",
        "# Drop names as they won't really help predict survivors\n",
        "training_data.drop('Cabin', axis=1, inplace=True)\n",
        "training_data.drop('Ticket', axis=1, inplace=True)\n",
        "training_data.drop('Name', axis=1, inplace=True)\n",
        "\n",
        "\n",
        "# Taking the mean/average value would be impacted by the skew\n",
        "# so we should use the median value to impute missing values\n",
        "training_data[\"Age\"].fillna(training_data[\"Age\"].median(),inplace=True)\n",
        "\n",
        "\n",
        "get_nulls(training_data, testing_data)"
      ]
    },
    {
      "cell_type": "code",
      "execution_count": 6,
      "id": "19e4f59b",
      "metadata": {
        "id": "19e4f59b"
      },
      "outputs": [],
      "source": [
        "# Fit the encoder on the data (Feature: Sex)\n",
        "encoder_1 = LabelEncoder()\n",
        "encoder_1.fit(training_data[\"Sex\"])\n",
        "\n",
        "# Transform and replace training data\n",
        "training_sex_encoded = encoder_1.transform(training_data[\"Sex\"])\n",
        "training_data[\"Sex\"] = training_sex_encoded\n",
        "test_sex_encoded = encoder_1.transform(testing_data[\"Sex\"])\n",
        "testing_data[\"Sex\"] = test_sex_encoded\n",
        "\n",
        "# Fit the encoder on the data (Feature: Embarked)\n",
        "\n",
        "\n",
        "# Any value we want to reshape needs be turned into array first\n",
        "ages_train = np.array(training_data[\"Age\"]).reshape(-1, 1)\n",
        "\n",
        "\n",
        "# Scaler takes arrays\n",
        "scaler = StandardScaler()\n",
        "\n",
        "training_data[\"Age\"] = scaler.fit_transform(ages_train)\n"
      ]
    },
    {
      "cell_type": "code",
      "execution_count": 9,
      "id": "65bd0090",
      "metadata": {
        "colab": {
          "base_uri": "https://localhost:8080/"
        },
        "id": "65bd0090",
        "outputId": "47429448-13df-4fa9-f2a7-ac31c694d300"
      },
      "outputs": [
        {
          "output_type": "stream",
          "name": "stdout",
          "text": [
            "             Pclass  Sex       Age  SibSp  Parch     Fare Embarked\n",
            "PassengerId                                                       \n",
            "1                 3    1 -0.565736      1      0   7.2500        S\n",
            "2                 1    0  0.663861      1      0  71.2833        C\n",
            "3                 3    0 -0.258337      0      0   7.9250        S\n",
            "4                 1    0  0.433312      1      0  53.1000        S\n",
            "5                 3    1  0.433312      0      0   8.0500        S\n",
            "PassengerId\n",
            "1    0\n",
            "2    1\n",
            "3    1\n",
            "4    1\n",
            "5    0\n",
            "Name: Survived, dtype: int64\n"
          ]
        }
      ],
      "source": [
        "# Now to select our training/testing data\n",
        "X_features = training_data.drop(labels=['Survived'], axis=1)\n",
        "y_labels = training_data['Survived']\n",
        "\n",
        "print(X_features.head(5))\n",
        "print(y_labels.head(5))\n",
        "\n",
        "# Make the train/test data for validation\n",
        "X_train, X_val, y_train, y_val = train_test_split(X_features, y_labels, test_size=0.1, random_state=12)"
      ]
    },
    {
      "cell_type": "markdown",
      "id": "5652bc34",
      "metadata": {
        "id": "5652bc34"
      },
      "source": [
        "## Simple Averaging Approach"
      ]
    },
    {
      "cell_type": "code",
      "execution_count": 12,
      "id": "9cd452cc",
      "metadata": {
        "colab": {
          "base_uri": "https://localhost:8080/"
        },
        "id": "9cd452cc",
        "outputId": "53507daf-a380-4f9d-ea9e-f34d484c903d"
      },
      "outputs": [
        {
          "output_type": "stream",
          "name": "stdout",
          "text": [
            "0.7222222222222222\n"
          ]
        },
        {
          "output_type": "stream",
          "name": "stderr",
          "text": [
            "/usr/local/lib/python3.10/dist-packages/sklearn/linear_model/_logistic.py:458: ConvergenceWarning: lbfgs failed to converge (status=1):\n",
            "STOP: TOTAL NO. of ITERATIONS REACHED LIMIT.\n",
            "\n",
            "Increase the number of iterations (max_iter) or scale the data as shown in:\n",
            "    https://scikit-learn.org/stable/modules/preprocessing.html\n",
            "Please also refer to the documentation for alternative solver options:\n",
            "    https://scikit-learn.org/stable/modules/linear_model.html#logistic-regression\n",
            "  n_iter_i = _check_optimize_result(\n"
          ]
        }
      ],
      "source": [
        "# Encode categorical columns 'Sex' using Label Encoding\n",
        "label_encoder = LabelEncoder()\n",
        "training_data['Sex'] = label_encoder.fit_transform(training_data['Sex'])\n",
        "\n",
        "# One-hot encode the 'Embarked' column\n",
        "training_data = pd.get_dummies(training_data, columns=['Embarked'], prefix=['Embarked'])\n",
        "\n",
        "# Now to select our training/testing data\n",
        "X_features = training_data.drop(labels=['Survived'], axis=1)  # Exclude 'Survived' column for features\n",
        "y_labels = training_data['Survived']\n",
        "\n",
        "# Make the train/test data for validation\n",
        "X_train, X_val, y_train, y_val = train_test_split(X_features, y_labels, test_size=0.1, random_state=12)\n",
        "# Initialize classifiers\n",
        "LogReg_clf = LogisticRegression()\n",
        "DTree_clf = DecisionTreeClassifier()\n",
        "SVC_clf = SVC()\n",
        "\n",
        "# Fit classifiers\n",
        "LogReg_clf.fit(X_train, y_train)\n",
        "DTree_clf.fit(X_train, y_train)\n",
        "SVC_clf.fit(X_train, y_train)\n",
        "\n",
        "# Predictions\n",
        "LogReg_pred = LogReg_clf.predict(X_val)\n",
        "DTree_pred = DTree_clf.predict(X_val)\n",
        "SVC_pred = SVC_clf.predict(X_val)\n",
        "\n",
        "# Averaged predictions (you can modify the averaging method as needed)\n",
        "averaged_preds = (LogReg_pred + DTree_pred + SVC_pred) // 3\n",
        "\n",
        "# Calculate accuracy\n",
        "acc = accuracy_score(y_val, averaged_preds)\n",
        "print(acc)"
      ]
    },
    {
      "cell_type": "markdown",
      "id": "82d32100",
      "metadata": {
        "id": "82d32100"
      },
      "source": [
        "## Bagging Classification Example"
      ]
    },
    {
      "cell_type": "code",
      "execution_count": 16,
      "id": "62ac47a5",
      "metadata": {
        "colab": {
          "base_uri": "https://localhost:8080/"
        },
        "id": "62ac47a5",
        "outputId": "02a015a9-387e-483d-d620-c98410213fb9"
      },
      "outputs": [
        {
          "output_type": "stream",
          "name": "stderr",
          "text": [
            "/usr/local/lib/python3.10/dist-packages/sklearn/linear_model/_logistic.py:458: ConvergenceWarning: lbfgs failed to converge (status=1):\n",
            "STOP: TOTAL NO. of ITERATIONS REACHED LIMIT.\n",
            "\n",
            "Increase the number of iterations (max_iter) or scale the data as shown in:\n",
            "    https://scikit-learn.org/stable/modules/preprocessing.html\n",
            "Please also refer to the documentation for alternative solver options:\n",
            "    https://scikit-learn.org/stable/modules/linear_model.html#logistic-regression\n",
            "  n_iter_i = _check_optimize_result(\n",
            "/usr/local/lib/python3.10/dist-packages/sklearn/linear_model/_logistic.py:458: ConvergenceWarning: lbfgs failed to converge (status=1):\n",
            "STOP: TOTAL NO. of ITERATIONS REACHED LIMIT.\n",
            "\n",
            "Increase the number of iterations (max_iter) or scale the data as shown in:\n",
            "    https://scikit-learn.org/stable/modules/preprocessing.html\n",
            "Please also refer to the documentation for alternative solver options:\n",
            "    https://scikit-learn.org/stable/modules/linear_model.html#logistic-regression\n",
            "  n_iter_i = _check_optimize_result(\n",
            "/usr/local/lib/python3.10/dist-packages/sklearn/linear_model/_logistic.py:458: ConvergenceWarning: lbfgs failed to converge (status=1):\n",
            "STOP: TOTAL NO. of ITERATIONS REACHED LIMIT.\n",
            "\n",
            "Increase the number of iterations (max_iter) or scale the data as shown in:\n",
            "    https://scikit-learn.org/stable/modules/preprocessing.html\n",
            "Please also refer to the documentation for alternative solver options:\n",
            "    https://scikit-learn.org/stable/modules/linear_model.html#logistic-regression\n",
            "  n_iter_i = _check_optimize_result(\n",
            "/usr/local/lib/python3.10/dist-packages/sklearn/linear_model/_logistic.py:458: ConvergenceWarning: lbfgs failed to converge (status=1):\n",
            "STOP: TOTAL NO. of ITERATIONS REACHED LIMIT.\n",
            "\n",
            "Increase the number of iterations (max_iter) or scale the data as shown in:\n",
            "    https://scikit-learn.org/stable/modules/preprocessing.html\n",
            "Please also refer to the documentation for alternative solver options:\n",
            "    https://scikit-learn.org/stable/modules/linear_model.html#logistic-regression\n",
            "  n_iter_i = _check_optimize_result(\n",
            "/usr/local/lib/python3.10/dist-packages/sklearn/linear_model/_logistic.py:458: ConvergenceWarning: lbfgs failed to converge (status=1):\n",
            "STOP: TOTAL NO. of ITERATIONS REACHED LIMIT.\n",
            "\n",
            "Increase the number of iterations (max_iter) or scale the data as shown in:\n",
            "    https://scikit-learn.org/stable/modules/preprocessing.html\n",
            "Please also refer to the documentation for alternative solver options:\n",
            "    https://scikit-learn.org/stable/modules/linear_model.html#logistic-regression\n",
            "  n_iter_i = _check_optimize_result(\n",
            "/usr/local/lib/python3.10/dist-packages/sklearn/linear_model/_logistic.py:458: ConvergenceWarning: lbfgs failed to converge (status=1):\n",
            "STOP: TOTAL NO. of ITERATIONS REACHED LIMIT.\n",
            "\n",
            "Increase the number of iterations (max_iter) or scale the data as shown in:\n",
            "    https://scikit-learn.org/stable/modules/preprocessing.html\n",
            "Please also refer to the documentation for alternative solver options:\n",
            "    https://scikit-learn.org/stable/modules/linear_model.html#logistic-regression\n",
            "  n_iter_i = _check_optimize_result(\n",
            "/usr/local/lib/python3.10/dist-packages/sklearn/linear_model/_logistic.py:458: ConvergenceWarning: lbfgs failed to converge (status=1):\n",
            "STOP: TOTAL NO. of ITERATIONS REACHED LIMIT.\n",
            "\n",
            "Increase the number of iterations (max_iter) or scale the data as shown in:\n",
            "    https://scikit-learn.org/stable/modules/preprocessing.html\n",
            "Please also refer to the documentation for alternative solver options:\n",
            "    https://scikit-learn.org/stable/modules/linear_model.html#logistic-regression\n",
            "  n_iter_i = _check_optimize_result(\n",
            "/usr/local/lib/python3.10/dist-packages/sklearn/linear_model/_logistic.py:458: ConvergenceWarning: lbfgs failed to converge (status=1):\n",
            "STOP: TOTAL NO. of ITERATIONS REACHED LIMIT.\n",
            "\n",
            "Increase the number of iterations (max_iter) or scale the data as shown in:\n",
            "    https://scikit-learn.org/stable/modules/preprocessing.html\n",
            "Please also refer to the documentation for alternative solver options:\n",
            "    https://scikit-learn.org/stable/modules/linear_model.html#logistic-regression\n",
            "  n_iter_i = _check_optimize_result(\n",
            "/usr/local/lib/python3.10/dist-packages/sklearn/linear_model/_logistic.py:458: ConvergenceWarning: lbfgs failed to converge (status=1):\n",
            "STOP: TOTAL NO. of ITERATIONS REACHED LIMIT.\n",
            "\n",
            "Increase the number of iterations (max_iter) or scale the data as shown in:\n",
            "    https://scikit-learn.org/stable/modules/preprocessing.html\n",
            "Please also refer to the documentation for alternative solver options:\n",
            "    https://scikit-learn.org/stable/modules/linear_model.html#logistic-regression\n",
            "  n_iter_i = _check_optimize_result(\n",
            "/usr/local/lib/python3.10/dist-packages/sklearn/linear_model/_logistic.py:458: ConvergenceWarning: lbfgs failed to converge (status=1):\n",
            "STOP: TOTAL NO. of ITERATIONS REACHED LIMIT.\n",
            "\n",
            "Increase the number of iterations (max_iter) or scale the data as shown in:\n",
            "    https://scikit-learn.org/stable/modules/preprocessing.html\n",
            "Please also refer to the documentation for alternative solver options:\n",
            "    https://scikit-learn.org/stable/modules/linear_model.html#logistic-regression\n",
            "  n_iter_i = _check_optimize_result(\n",
            "/usr/local/lib/python3.10/dist-packages/sklearn/linear_model/_logistic.py:458: ConvergenceWarning: lbfgs failed to converge (status=1):\n",
            "STOP: TOTAL NO. of ITERATIONS REACHED LIMIT.\n",
            "\n",
            "Increase the number of iterations (max_iter) or scale the data as shown in:\n",
            "    https://scikit-learn.org/stable/modules/preprocessing.html\n",
            "Please also refer to the documentation for alternative solver options:\n",
            "    https://scikit-learn.org/stable/modules/linear_model.html#logistic-regression\n",
            "  n_iter_i = _check_optimize_result(\n",
            "/usr/local/lib/python3.10/dist-packages/sklearn/linear_model/_logistic.py:458: ConvergenceWarning: lbfgs failed to converge (status=1):\n",
            "STOP: TOTAL NO. of ITERATIONS REACHED LIMIT.\n",
            "\n",
            "Increase the number of iterations (max_iter) or scale the data as shown in:\n",
            "    https://scikit-learn.org/stable/modules/preprocessing.html\n",
            "Please also refer to the documentation for alternative solver options:\n",
            "    https://scikit-learn.org/stable/modules/linear_model.html#logistic-regression\n",
            "  n_iter_i = _check_optimize_result(\n",
            "/usr/local/lib/python3.10/dist-packages/sklearn/linear_model/_logistic.py:458: ConvergenceWarning: lbfgs failed to converge (status=1):\n",
            "STOP: TOTAL NO. of ITERATIONS REACHED LIMIT.\n",
            "\n",
            "Increase the number of iterations (max_iter) or scale the data as shown in:\n",
            "    https://scikit-learn.org/stable/modules/preprocessing.html\n",
            "Please also refer to the documentation for alternative solver options:\n",
            "    https://scikit-learn.org/stable/modules/linear_model.html#logistic-regression\n",
            "  n_iter_i = _check_optimize_result(\n",
            "/usr/local/lib/python3.10/dist-packages/sklearn/linear_model/_logistic.py:458: ConvergenceWarning: lbfgs failed to converge (status=1):\n",
            "STOP: TOTAL NO. of ITERATIONS REACHED LIMIT.\n",
            "\n",
            "Increase the number of iterations (max_iter) or scale the data as shown in:\n",
            "    https://scikit-learn.org/stable/modules/preprocessing.html\n",
            "Please also refer to the documentation for alternative solver options:\n",
            "    https://scikit-learn.org/stable/modules/linear_model.html#logistic-regression\n",
            "  n_iter_i = _check_optimize_result(\n",
            "/usr/local/lib/python3.10/dist-packages/sklearn/linear_model/_logistic.py:458: ConvergenceWarning: lbfgs failed to converge (status=1):\n",
            "STOP: TOTAL NO. of ITERATIONS REACHED LIMIT.\n",
            "\n",
            "Increase the number of iterations (max_iter) or scale the data as shown in:\n",
            "    https://scikit-learn.org/stable/modules/preprocessing.html\n",
            "Please also refer to the documentation for alternative solver options:\n",
            "    https://scikit-learn.org/stable/modules/linear_model.html#logistic-regression\n",
            "  n_iter_i = _check_optimize_result(\n",
            "/usr/local/lib/python3.10/dist-packages/sklearn/linear_model/_logistic.py:458: ConvergenceWarning: lbfgs failed to converge (status=1):\n",
            "STOP: TOTAL NO. of ITERATIONS REACHED LIMIT.\n",
            "\n",
            "Increase the number of iterations (max_iter) or scale the data as shown in:\n",
            "    https://scikit-learn.org/stable/modules/preprocessing.html\n",
            "Please also refer to the documentation for alternative solver options:\n",
            "    https://scikit-learn.org/stable/modules/linear_model.html#logistic-regression\n",
            "  n_iter_i = _check_optimize_result(\n",
            "/usr/local/lib/python3.10/dist-packages/sklearn/linear_model/_logistic.py:458: ConvergenceWarning: lbfgs failed to converge (status=1):\n",
            "STOP: TOTAL NO. of ITERATIONS REACHED LIMIT.\n",
            "\n",
            "Increase the number of iterations (max_iter) or scale the data as shown in:\n",
            "    https://scikit-learn.org/stable/modules/preprocessing.html\n",
            "Please also refer to the documentation for alternative solver options:\n",
            "    https://scikit-learn.org/stable/modules/linear_model.html#logistic-regression\n",
            "  n_iter_i = _check_optimize_result(\n",
            "/usr/local/lib/python3.10/dist-packages/sklearn/linear_model/_logistic.py:458: ConvergenceWarning: lbfgs failed to converge (status=1):\n",
            "STOP: TOTAL NO. of ITERATIONS REACHED LIMIT.\n",
            "\n",
            "Increase the number of iterations (max_iter) or scale the data as shown in:\n",
            "    https://scikit-learn.org/stable/modules/preprocessing.html\n",
            "Please also refer to the documentation for alternative solver options:\n",
            "    https://scikit-learn.org/stable/modules/linear_model.html#logistic-regression\n",
            "  n_iter_i = _check_optimize_result(\n",
            "/usr/local/lib/python3.10/dist-packages/sklearn/linear_model/_logistic.py:458: ConvergenceWarning: lbfgs failed to converge (status=1):\n",
            "STOP: TOTAL NO. of ITERATIONS REACHED LIMIT.\n",
            "\n",
            "Increase the number of iterations (max_iter) or scale the data as shown in:\n",
            "    https://scikit-learn.org/stable/modules/preprocessing.html\n",
            "Please also refer to the documentation for alternative solver options:\n",
            "    https://scikit-learn.org/stable/modules/linear_model.html#logistic-regression\n",
            "  n_iter_i = _check_optimize_result(\n",
            "/usr/local/lib/python3.10/dist-packages/sklearn/linear_model/_logistic.py:458: ConvergenceWarning: lbfgs failed to converge (status=1):\n",
            "STOP: TOTAL NO. of ITERATIONS REACHED LIMIT.\n",
            "\n",
            "Increase the number of iterations (max_iter) or scale the data as shown in:\n",
            "    https://scikit-learn.org/stable/modules/preprocessing.html\n",
            "Please also refer to the documentation for alternative solver options:\n",
            "    https://scikit-learn.org/stable/modules/linear_model.html#logistic-regression\n",
            "  n_iter_i = _check_optimize_result(\n"
          ]
        },
        {
          "output_type": "stream",
          "name": "stdout",
          "text": [
            "Mean Accuracy: 0.7964634146341464\n",
            "Mean Accuracy: 0.7876524390243903\n",
            "Mean Accuracy: 0.6815548780487807\n"
          ]
        }
      ],
      "source": [
        "from sklearn.model_selection import KFold, cross_val_score\n",
        "\n",
        "def bagging_ensemble(model, X_train, y_train, n_splits=20, random_state=12):\n",
        "    k_folds = KFold(n_splits=n_splits, random_state=random_state, shuffle=True)\n",
        "    results = cross_val_score(model, X_train, y_train, cv=k_folds)\n",
        "    mean_accuracy = results.mean()\n",
        "    print(\"Mean Accuracy:\", mean_accuracy)\n",
        "    return mean_accuracy\n",
        "mean_accuracy_logreg = bagging_ensemble(LogReg_clf, X_train, y_train)\n",
        "mean_accuracy_dtree = bagging_ensemble(DTree_clf, X_train, y_train)\n",
        "mean_accuracy_svc = bagging_ensemble(SVC_clf, X_train, y_train)"
      ]
    },
    {
      "cell_type": "markdown",
      "id": "09094ea7",
      "metadata": {
        "id": "09094ea7"
      },
      "source": [
        "## Boosting Classification Example"
      ]
    },
    {
      "cell_type": "code",
      "execution_count": 17,
      "id": "0a6d48bb",
      "metadata": {
        "colab": {
          "base_uri": "https://localhost:8080/"
        },
        "id": "0a6d48bb",
        "outputId": "d44157a7-4fdc-42b3-88ed-fbfc89405991"
      },
      "outputs": [
        {
          "output_type": "stream",
          "name": "stdout",
          "text": [
            "Results for 20 estimators:\n",
            "0.8052134146341464\n",
            "Results for 40 estimators:\n",
            "0.8126524390243903\n",
            "Results for 60 estimators:\n",
            "0.8176524390243903\n",
            "Results for 80 estimators:\n",
            "0.8114024390243901\n",
            "Results for 100 estimators:\n",
            "0.8126524390243903\n"
          ]
        }
      ],
      "source": [
        "k_folds = KFold(n_splits=20, random_state=12,shuffle=True)\n",
        "num_estimators = [20, 40, 60, 80, 100]\n",
        "\n",
        "for i in num_estimators:\n",
        "    ada_boost = AdaBoostClassifier(n_estimators=i, random_state=12)\n",
        "    results = cross_val_score(ada_boost, X_train, y_train, cv=k_folds)\n",
        "    print(\"Results for {} estimators:\".format(i))\n",
        "    print(results.mean())"
      ]
    },
    {
      "cell_type": "markdown",
      "id": "8290c946",
      "metadata": {
        "id": "8290c946"
      },
      "source": [
        "## voting\\Stacking Classification Example"
      ]
    },
    {
      "cell_type": "code",
      "execution_count": 18,
      "id": "161a4960",
      "metadata": {
        "colab": {
          "base_uri": "https://localhost:8080/"
        },
        "id": "161a4960",
        "outputId": "72b90a21-c3be-42e1-d73a-822cef8403ac"
      },
      "outputs": [
        {
          "output_type": "stream",
          "name": "stdout",
          "text": [
            "Accuracy is: 0.7888888888888889\n",
            "Log Loss is: 7.609215715480287\n",
            "F1 Score is: 0.6885245901639345\n"
          ]
        },
        {
          "output_type": "stream",
          "name": "stderr",
          "text": [
            "/usr/local/lib/python3.10/dist-packages/sklearn/linear_model/_logistic.py:458: ConvergenceWarning: lbfgs failed to converge (status=1):\n",
            "STOP: TOTAL NO. of ITERATIONS REACHED LIMIT.\n",
            "\n",
            "Increase the number of iterations (max_iter) or scale the data as shown in:\n",
            "    https://scikit-learn.org/stable/modules/preprocessing.html\n",
            "Please also refer to the documentation for alternative solver options:\n",
            "    https://scikit-learn.org/stable/modules/linear_model.html#logistic-regression\n",
            "  n_iter_i = _check_optimize_result(\n"
          ]
        }
      ],
      "source": [
        "voting_clf = VotingClassifier(estimators=[('SVC', SVC_clf), ('DTree', DTree_clf), ('LogReg', LogReg_clf)], voting='hard')\n",
        "voting_clf.fit(X_train, y_train)\n",
        "preds = voting_clf.predict(X_val)\n",
        "acc = accuracy_score(y_val, preds)\n",
        "l_loss = log_loss(y_val, preds)\n",
        "f1 = f1_score(y_val, preds)\n",
        "\n",
        "print(\"Accuracy is: \" + str(acc))\n",
        "print(\"Log Loss is: \" + str(l_loss))\n",
        "print(\"F1 Score is: \" + str(f1))"
      ]
    },
    {
      "cell_type": "code",
      "execution_count": null,
      "id": "aedc530e",
      "metadata": {
        "id": "aedc530e"
      },
      "outputs": [],
      "source": []
    }
  ],
  "metadata": {
    "kernelspec": {
      "display_name": "Python 3",
      "language": "python",
      "name": "python3"
    },
    "language_info": {
      "codemirror_mode": {
        "name": "ipython",
        "version": 3
      },
      "file_extension": ".py",
      "mimetype": "text/x-python",
      "name": "python",
      "nbconvert_exporter": "python",
      "pygments_lexer": "ipython3",
      "version": "3.8.8"
    },
    "colab": {
      "provenance": []
    }
  },
  "nbformat": 4,
  "nbformat_minor": 5
}